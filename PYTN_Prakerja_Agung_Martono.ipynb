{
 "cells": [
  {
   "cell_type": "markdown",
   "id": "177f22a5-f795-4775-a925-1b70c8c1fd2e",
   "metadata": {},
   "source": [
    "Final Project\n",
    "<p><br><strong>Attribute Information:</strong></p>\n",
    "\n",
    "<blockquote><ol><li>age</li><li>sex</li><li>chest pain type (4 values)</li><li>resting blood pressure</li><li>serum cholesterol in mg/dl</li><li>fasting blood sugar &gt; 120 mg/dl</li><li>resting electrocardiographic results (values 0,1,2)</li><li>maximum heart rate achieved</li><li>exercise induced angina</li><li>oldpeak = ST depression induced by exercise relative to rest</li><li>the slope of the peak exercise ST segment</li><li>number of major vessels (0-3) colored by flouroscopy</li><li>thal: 3 = normal; 6 = fixed defect; 7 = reversible defect</li></ol></blockquote>"
   ]
  },
  {
   "cell_type": "code",
   "execution_count": 6,
   "id": "32395b45-5f1c-435f-a72f-4334e164e2a6",
   "metadata": {},
   "outputs": [
    {
     "data": {
      "text/html": [
       "<div>\n",
       "<style scoped>\n",
       "    .dataframe tbody tr th:only-of-type {\n",
       "        vertical-align: middle;\n",
       "    }\n",
       "\n",
       "    .dataframe tbody tr th {\n",
       "        vertical-align: top;\n",
       "    }\n",
       "\n",
       "    .dataframe thead th {\n",
       "        text-align: right;\n",
       "    }\n",
       "</style>\n",
       "<table border=\"1\" class=\"dataframe\">\n",
       "  <thead>\n",
       "    <tr style=\"text-align: right;\">\n",
       "      <th></th>\n",
       "      <th>age</th>\n",
       "      <th>sex</th>\n",
       "      <th>cp</th>\n",
       "      <th>trestbps</th>\n",
       "      <th>chol</th>\n",
       "      <th>fbs</th>\n",
       "      <th>restecg</th>\n",
       "      <th>thalach</th>\n",
       "      <th>exang</th>\n",
       "      <th>oldpeak</th>\n",
       "      <th>slope</th>\n",
       "      <th>ca</th>\n",
       "      <th>thal</th>\n",
       "      <th>target</th>\n",
       "    </tr>\n",
       "  </thead>\n",
       "  <tbody>\n",
       "    <tr>\n",
       "      <th>0</th>\n",
       "      <td>63</td>\n",
       "      <td>1</td>\n",
       "      <td>3</td>\n",
       "      <td>145</td>\n",
       "      <td>233</td>\n",
       "      <td>1</td>\n",
       "      <td>0</td>\n",
       "      <td>150</td>\n",
       "      <td>0</td>\n",
       "      <td>2.3</td>\n",
       "      <td>0</td>\n",
       "      <td>0</td>\n",
       "      <td>1</td>\n",
       "      <td>1</td>\n",
       "    </tr>\n",
       "    <tr>\n",
       "      <th>1</th>\n",
       "      <td>37</td>\n",
       "      <td>1</td>\n",
       "      <td>2</td>\n",
       "      <td>130</td>\n",
       "      <td>250</td>\n",
       "      <td>0</td>\n",
       "      <td>1</td>\n",
       "      <td>187</td>\n",
       "      <td>0</td>\n",
       "      <td>3.5</td>\n",
       "      <td>0</td>\n",
       "      <td>0</td>\n",
       "      <td>2</td>\n",
       "      <td>1</td>\n",
       "    </tr>\n",
       "    <tr>\n",
       "      <th>2</th>\n",
       "      <td>41</td>\n",
       "      <td>0</td>\n",
       "      <td>1</td>\n",
       "      <td>130</td>\n",
       "      <td>204</td>\n",
       "      <td>0</td>\n",
       "      <td>0</td>\n",
       "      <td>172</td>\n",
       "      <td>0</td>\n",
       "      <td>1.4</td>\n",
       "      <td>2</td>\n",
       "      <td>0</td>\n",
       "      <td>2</td>\n",
       "      <td>1</td>\n",
       "    </tr>\n",
       "    <tr>\n",
       "      <th>3</th>\n",
       "      <td>56</td>\n",
       "      <td>1</td>\n",
       "      <td>1</td>\n",
       "      <td>120</td>\n",
       "      <td>236</td>\n",
       "      <td>0</td>\n",
       "      <td>1</td>\n",
       "      <td>178</td>\n",
       "      <td>0</td>\n",
       "      <td>0.8</td>\n",
       "      <td>2</td>\n",
       "      <td>0</td>\n",
       "      <td>2</td>\n",
       "      <td>1</td>\n",
       "    </tr>\n",
       "    <tr>\n",
       "      <th>4</th>\n",
       "      <td>57</td>\n",
       "      <td>0</td>\n",
       "      <td>0</td>\n",
       "      <td>120</td>\n",
       "      <td>354</td>\n",
       "      <td>0</td>\n",
       "      <td>1</td>\n",
       "      <td>163</td>\n",
       "      <td>1</td>\n",
       "      <td>0.6</td>\n",
       "      <td>2</td>\n",
       "      <td>0</td>\n",
       "      <td>2</td>\n",
       "      <td>1</td>\n",
       "    </tr>\n",
       "  </tbody>\n",
       "</table>\n",
       "</div>"
      ],
      "text/plain": [
       "   age  sex  cp  trestbps  chol  fbs  restecg  thalach  exang  oldpeak  slope  \\\n",
       "0   63    1   3       145   233    1        0      150      0      2.3      0   \n",
       "1   37    1   2       130   250    0        1      187      0      3.5      0   \n",
       "2   41    0   1       130   204    0        0      172      0      1.4      2   \n",
       "3   56    1   1       120   236    0        1      178      0      0.8      2   \n",
       "4   57    0   0       120   354    0        1      163      1      0.6      2   \n",
       "\n",
       "   ca  thal  target  \n",
       "0   0     1       1  \n",
       "1   0     2       1  \n",
       "2   0     2       1  \n",
       "3   0     2       1  \n",
       "4   0     2       1  "
      ]
     },
     "execution_count": 6,
     "metadata": {},
     "output_type": "execute_result"
    }
   ],
   "source": [
    "# import package\n",
    "import numpy as np\n",
    "import pandas as pd\n",
    "import matplotlib.pyplot as plt\n",
    "%matplotlib inline\n",
    "\n",
    "# read data csv\n",
    "dataframe = pd.read_csv('heart.csv')\n",
    "# ambil header csv\n",
    "dataframe.head()"
   ]
  },
  {
   "cell_type": "markdown",
   "id": "df5aedf6-817b-4a87-b8a4-e1a835c78f29",
   "metadata": {},
   "source": [
    "<h1><strong>Logistic Regression</strong></h1>"
   ]
  },
  {
   "cell_type": "code",
   "execution_count": 26,
   "id": "f7818ed9-b5ca-40e4-a734-c25effc2816e",
   "metadata": {},
   "outputs": [],
   "source": [
    "from sklearn.model_selection import train_test_split\n",
    "data = dataframe.drop('target',axis=1)\n",
    "label = dataframe.target\n",
    "x_1, x_2, y_1, y_2 = train_test_split(data,label,test_size=0.2)"
   ]
  },
  {
   "cell_type": "code",
   "execution_count": 27,
   "id": "9a4f0270-0509-4053-ae84-c7242f182470",
   "metadata": {},
   "outputs": [],
   "source": [
    "# import package yang diperlukan\n",
    "from sklearn.linear_model import LogisticRegression\n",
    "\n",
    "# tambahan untuk cek tingkat akurasi model\n",
    "from sklearn.metrics import classification_report, confusion_matrix"
   ]
  },
  {
   "cell_type": "code",
   "execution_count": 28,
   "id": "c86b7f00-2621-44e6-ac35-f7de43018fe4",
   "metadata": {},
   "outputs": [
    {
     "data": {
      "text/plain": [
       "0.8677685950413223"
      ]
     },
     "execution_count": 28,
     "metadata": {},
     "output_type": "execute_result"
    }
   ],
   "source": [
    "# bikin model\n",
    "model = LogisticRegression(solver=\"liblinear\")\n",
    "# training model\n",
    "model.fit(x_1, y_1)\n",
    "\n",
    "#cek skor model\n",
    "model.score(x_1,y_1)"
   ]
  },
  {
   "cell_type": "code",
   "execution_count": 29,
   "id": "bb1e1eb8-0b65-4996-a36c-3cda30d12462",
   "metadata": {},
   "outputs": [
    {
     "name": "stdout",
     "output_type": "stream",
     "text": [
      "              precision    recall  f1-score   support\n",
      "\n",
      "           0       0.89      0.79      0.84       107\n",
      "           1       0.85      0.93      0.89       135\n",
      "\n",
      "    accuracy                           0.87       242\n",
      "   macro avg       0.87      0.86      0.86       242\n",
      "weighted avg       0.87      0.87      0.87       242\n",
      "\n"
     ]
    }
   ],
   "source": [
    "print(classification_report(y_1, model.predict(x_1)))"
   ]
  },
  {
   "cell_type": "code",
   "execution_count": 30,
   "id": "e4046064-74d5-4ffc-8c59-22d0890a8f04",
   "metadata": {},
   "outputs": [
    {
     "data": {
      "image/png": "[encoded data removed]",
      "text/plain": [
       "<Figure size 288x288 with 1 Axes>"
      ]
     },
     "metadata": {
      "needs_background": "light"
     },
     "output_type": "display_data"
    }
   ],
   "source": [
    "cm = confusion_matrix(y_1, model.predict(x_1))\n",
    "\n",
    "fig,ax = plt.subplots(figsize=(4,4))\n",
    "ax.imshow(cm, cmap=\"OrRd\")\n",
    "\n",
    "ax.xaxis.set(ticks=(0,1), ticklabels=('0', '1'))\n",
    "ax.yaxis.set(ticks=(0,1), ticklabels=('0', '1'))\n",
    "\n",
    "for i in range(2):\n",
    "    for j in range(2):\n",
    "        ax.text(j,i,cm[i,j], \n",
    "                ha='center', va='center', color='black',\n",
    "                fontsize=20)"
   ]
  }
 ],
 "metadata": {
  "kernelspec": {
   "display_name": "Python 3",
   "language": "python",
   "name": "python3"
  },
  "language_info": {
   "codemirror_mode": {
    "name": "ipython",
    "version": 3
   },
   "file_extension": ".py",
   "mimetype": "text/x-python",
   "name": "python",
   "nbconvert_exporter": "python",
   "pygments_lexer": "ipython3",
   "version": "3.8.8"
  }
 },
 "nbformat": 4,
 "nbformat_minor": 5
}
